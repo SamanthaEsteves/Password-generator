{
 "cells": [
  {
   "cell_type": "markdown",
   "metadata": {},
   "source": [
    "Este programa cria senhas aleatórias de acordo com as especificações do usuário.\n",
    "\n",
    "Gerar senha:\n",
    "_ Informar o tamanho da senha\n",
    "    _ Somente com números;\n",
    "    _ Somete com letras;\n",
    "    _ Somente com letras maiúsculas e minúsculas;\n",
    "    _ Letas maiúsculas e minúsculas e números;\n",
    "    _ Letas maiúsculas e minúsculas, números e caracteres;"
   ]
  },
  {
   "cell_type": "code",
   "execution_count": null,
   "metadata": {},
   "outputs": [],
   "source": [
    "import random"
   ]
  },
  {
   "cell_type": "code",
   "execution_count": null,
   "metadata": {},
   "outputs": [],
   "source": [
    "lowercase = \"abcdefghijklmnopqrstuvwxyz\"\n",
    "uppercase = \"ABCDEFGHIJKLMNOPQRSTUVWXYZ\"\n",
    "number = \"1234567890\"\n",
    "characters = \"!@#$%¨&*()_-=+~^[{]};:><,.\"\n",
    "\n",
    "# senha_a = lowercase \n",
    "# senha_b = lowercase + uppercase\n",
    "# senha_c = lowercase + uppercase + number\n",
    "# senha_d = lowercase + uppercase + number + characters\n"
   ]
  },
  {
   "cell_type": "code",
   "execution_count": null,
   "metadata": {},
   "outputs": [],
   "source": [
    "def senha_a(tamanho):\n",
    "    senha = \"\"\n",
    "    for letra in range(tamanho):\n",
    "        senha += random.choice(lowercase)\n",
    "    return(senha)"
   ]
  },
  {
   "cell_type": "code",
   "execution_count": null,
   "metadata": {},
   "outputs": [],
   "source": [
    "def senha_b(tamanho):\n",
    "    senha = \"\"\n",
    "    for letra in range(tamanho):\n",
    "        senha += random.choice(lowercase + uppercase)\n",
    "    return(senha)"
   ]
  },
  {
   "cell_type": "code",
   "execution_count": null,
   "metadata": {},
   "outputs": [],
   "source": [
    "def senha_c(tamanho):\n",
    "    senha = \"\"\n",
    "    for letra in range(tamanho):\n",
    "        senha += random.choice(lowercase + uppercase + number)\n",
    "    return(senha)"
   ]
  },
  {
   "cell_type": "code",
   "execution_count": null,
   "metadata": {},
   "outputs": [],
   "source": [
    "def senha_d(tamanho):\n",
    "    senha = \"\"\n",
    "    for letra in range(tamanho):\n",
    "        senha += random.choice(lowercase + uppercase + number + characters)\n",
    "    return(senha)"
   ]
  },
  {
   "cell_type": "code",
   "execution_count": null,
   "metadata": {},
   "outputs": [],
   "source": [
    "tamanho = int(input(\"Insira o tamanho da senha que deseja criar!\"))\n",
    "tipo = input(\"Digite o tipo de senha que deseja criar!\")\n",
    "\n",
    "if __name__ == \"__main__\":\n",
    "    tipo = senha_a\n",
    "    print(senha_a(tamanho))\n",
    "\n",
    "    tipo = senha_b\n",
    "    print(senha_b(tamanho))\n",
    "\n",
    "    tipo = senha_c\n",
    "    print(senha_c(tamanho))\n",
    "\n",
    "    tipo = senha_d\n",
    "    print(senha_d(tamanho))"
   ]
  }
 ],
 "metadata": {
  "kernelspec": {
   "display_name": "Python 3.10.4 64-bit",
   "language": "python",
   "name": "python3"
  },
  "language_info": {
   "codemirror_mode": {
    "name": "ipython",
    "version": 3
   },
   "file_extension": ".py",
   "mimetype": "text/x-python",
   "name": "python",
   "nbconvert_exporter": "python",
   "pygments_lexer": "ipython3",
   "version": "3.10.7"
  },
  "orig_nbformat": 4,
  "vscode": {
   "interpreter": {
    "hash": "efb7a97d474e1365eb3cc1499572f8bbefdf3cf8bd59fd2202ae78240eb011e1"
   }
  }
 },
 "nbformat": 4,
 "nbformat_minor": 2
}
